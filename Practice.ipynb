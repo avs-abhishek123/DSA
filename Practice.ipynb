{
  "nbformat": 4,
  "nbformat_minor": 0,
  "metadata": {
    "colab": {
      "name": "Practice.ipynb",
      "provenance": []
    },
    "kernelspec": {
      "name": "python3",
      "display_name": "Python 3"
    },
    "language_info": {
      "name": "python"
    }
  },
  "cells": [
    {
      "cell_type": "code",
      "metadata": {
        "colab": {
          "base_uri": "https://localhost:8080/"
        },
        "id": "f8zCQngDBjvA",
        "outputId": "05387eca-f40a-40e8-e266-e8c4de598770"
      },
      "source": [
        "n=int(input())\n",
        "lst=[]\n",
        "count=0\n",
        "for i in range(0, n):\n",
        "    ele = int(input())\n",
        "    lst.append(ele)\n",
        "if n in lst:\n",
        "    i= lst.index(n)\n",
        "    for j in range(i + 1,len(lst)):\n",
        "        if (lst[j] < n):\n",
        "            count+= 1\n",
        "print(count+1)"
      ],
      "execution_count": null,
      "outputs": [
        {
          "output_type": "stream",
          "name": "stdout",
          "text": [
            "6\n",
            "6\n",
            "5\n",
            "4\n",
            "3\n",
            "2\n",
            "1\n",
            "6\n"
          ]
        }
      ]
    },
    {
      "cell_type": "code",
      "metadata": {
        "id": "vh0Qd1uJXT2M"
      },
      "source": [
        "5"
      ],
      "execution_count": null,
      "outputs": []
    },
    {
      "cell_type": "code",
      "metadata": {
        "colab": {
          "base_uri": "https://localhost:8080/"
        },
        "id": "Clh_arVgW1VK",
        "outputId": "522c862a-f6b7-47c6-d985-27a945d2373c"
      },
      "source": [
        "from itertools import groupby\n",
        "n=int(input())\n",
        "lst=[]\n",
        "flag=1\n",
        "for i in range(0, n):\n",
        "    ele = int(input())\n",
        "    lst.append(ele)\n",
        "freq = {}\n",
        "for item in lst:\n",
        "    if (item in freq):\n",
        "        freq[item] += 1\n",
        "    else:\n",
        "        freq[item] = 1\n",
        "temp = list(freq.values())[0]\n",
        "for v in list(freq.values()):\n",
        "    if v!=temp:\n",
        "      flag=0\n",
        "    else:\n",
        "      continue\n",
        "if flag==1:\n",
        "  print(\"YES\")    \n",
        "else:\n",
        "  print(\"NO\")"
      ],
      "execution_count": null,
      "outputs": [
        {
          "output_type": "stream",
          "name": "stdout",
          "text": [
            "4\n",
            "1\n",
            "1\n",
            "2\n",
            "2\n",
            "YES\n"
          ]
        }
      ]
    },
    {
      "cell_type": "code",
      "metadata": {
        "colab": {
          "base_uri": "https://localhost:8080/"
        },
        "id": "P4H9fhNHnGux",
        "outputId": "25b37ba6-cce5-4796-8904-8b6e60ef714a"
      },
      "source": [
        "my_list =[1, 1, 1, 5, 5, 3, 1, 3, 3, 1, 4, 4, 4, 2, 2, 2, 2]\n",
        "freq = {}\n",
        "for item in my_list:\n",
        "    if (item in freq):\n",
        "        freq[item] += 1\n",
        "    else:\n",
        "        freq[item] = 1\n",
        "print(freq)"
      ],
      "execution_count": null,
      "outputs": [
        {
          "output_type": "stream",
          "name": "stdout",
          "text": [
            "{1: 5, 5: 2, 3: 3, 4: 3, 2: 4}\n"
          ]
        }
      ]
    },
    {
      "cell_type": "markdown",
      "metadata": {
        "id": "jHXBl8mj2-4u"
      },
      "source": [
        ""
      ]
    },
    {
      "cell_type": "markdown",
      "metadata": {
        "id": "vZdefikV2_FL"
      },
      "source": [
        ""
      ]
    },
    {
      "cell_type": "code",
      "metadata": {
        "colab": {
          "base_uri": "https://localhost:8080/"
        },
        "id": "vVcHCOvxv7y2",
        "outputId": "dd5be1f4-850a-439a-bae3-755b57e4109f"
      },
      "source": [
        "str1 = list(input())\n",
        "str2 = list(input())\n",
        "if(len(str1)==len(str2)):\n",
        "    print(\"true\")\n",
        "else:\n",
        "    print(\"false\")\n",
        "print(ord(str2[len(str2)-1]))\n",
        "v = ['a','e','i','o','u']\n",
        "v_str1 = [i for i in str1 if i in v]\n",
        "v_str2 = [i for i in str2 if i in v]\n",
        "print(len(v_str1)+len(v_str2))"
      ],
      "execution_count": null,
      "outputs": [
        {
          "output_type": "stream",
          "name": "stdout",
          "text": [
            "hello\n",
            "world\n",
            "true\n",
            "100\n",
            "3\n"
          ]
        }
      ]
    },
    {
      "cell_type": "code",
      "metadata": {
        "id": "tsqIfr740xnV"
      },
      "source": [
        ""
      ],
      "execution_count": null,
      "outputs": []
    }
  ]
}